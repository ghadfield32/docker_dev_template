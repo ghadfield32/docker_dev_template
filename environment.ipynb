{
 "cells": [
  {
   "cell_type": "code",
   "execution_count": 1,
   "metadata": {},
   "outputs": [
    {
     "name": "stdout",
     "output_type": "stream",
     "text": [
      "Overwriting .devcontainer/.dockerignore\n"
     ]
    }
   ],
   "source": [
    "%%writefile .devcontainer/.dockerignore\n",
    "**/.git\n",
    "**/.vscode\n",
    "**/.idea\n",
    "**/__pycache__\n",
    "**/*.pyc\n",
    "**/*.pyo\n",
    "**/*.pyd\n",
    "**/*.swp\n",
    "**/venv\n",
    "**/env\n",
    "\n"
   ]
  },
  {
   "cell_type": "code",
   "execution_count": 2,
   "metadata": {},
   "outputs": [
    {
     "name": "stdout",
     "output_type": "stream",
     "text": [
      "Overwriting .devcontainer/.env\n"
     ]
    }
   ],
   "source": [
    "%%writefile .devcontainer/.env\n",
    "ENV_NAME=ml_project\n",
    "COMPOSE_PROJECT_NAME=ml_project\n",
    "PYTHON_VER=3.10\n",
    "QUARTO_VER=1.3.450\n",
    "JUPYTER_PORT=8888\n",
    "TENSORBOARD_PORT=6006\n",
    "BUILD_TF_FROM_SOURCE=false\n",
    "\n"
   ]
  },
  {
   "cell_type": "code",
   "execution_count": 3,
   "metadata": {},
   "outputs": [
    {
     "name": "stdout",
     "output_type": "stream",
     "text": [
      "Writing .devcontainer/.devcontainer.json\n"
     ]
    }
   ],
   "source": [
    "%%writefile .devcontainer/.devcontainer.json\n",
    "{\n",
    "    \"name\": \"data_science_example\",\n",
    "    \"build\": {\n",
    "        \"dockerfile\": \"Dockerfile\",\n",
    "        \"context\": \"..\",\n",
    "        \"args\": {\n",
    "            \"ENV_NAME\": \"data_science_example\",\n",
    "            \"PYTHON_VER\": \"${localEnv:PYTHON_VER:3.10}\",\n",
    "            \"QUARTO_VER\": \"${localEnv:QUARTO_VER:1.3.450}\"\n",
    "        }\n",
    "    },\n",
    "    \"customizations\": {\n",
    "        \"vscode\": {\n",
    "            \"settings\": {\n",
    "                \"python.defaultInterpreterPath\": \"/opt/conda/envs/data_science_example/bin/python\",\n",
    "                \"python.pythonPath\": \"/opt/conda/envs/data_science_example/bin/python\",\n",
    "                \"terminal.integrated.profiles.linux\": {\n",
    "                    \"bash\": {\n",
    "                        \"path\": \"bash\",\n",
    "                        \"args\": [\"-l\"]\n",
    "                    }\n",
    "                },\n",
    "                \"terminal.integrated.defaultProfile.linux\": \"bash\"\n",
    "            },\n",
    "            \"extensions\": [\n",
    "                \"quarto.quarto\",\n",
    "                \"purocean.drawio-preview\",\n",
    "                \"redhat.vscode-yaml\",\n",
    "                \"yzhang.markdown-all-in-one\",\n",
    "                \"ms-azuretools.vscode-docker\",\n",
    "                \"ms-vscode-remote.remote-containers\",\n",
    "                \"ms-python.python\",\n",
    "                \"ms-toolsai.jupyter\",\n",
    "                \"github.vscode-github-actions\"\n",
    "            ]\n",
    "        }\n",
    "    },\n",
    "    \"mounts\": [\n",
    "        \"source=${localWorkspaceFolder},target=/workspace,type=bind,consistency=cached\"\n",
    "    ],\n",
    "    \"remoteEnv\": {\n",
    "        \"MY_VAR\": \"${localEnv:MY_VAR:test_var}\"\n",
    "    },\n",
    "    \"runArgs\": [\n",
    "        \"--gpus\", \"all\",\n",
    "        \"--env-file\", \".devcontainer/devcontainer.env\"\n",
    "    ],\n",
    "    \"postCreateCommand\": \"conda run -n data_science_example python /workspace/tests/test1.py\"\n",
    "}\n",
    "\n"
   ]
  },
  {
   "cell_type": "code",
   "execution_count": 4,
   "metadata": {},
   "outputs": [
    {
     "name": "stdout",
     "output_type": "stream",
     "text": [
      "Overwriting .devcontainer/Dockerfile\n"
     ]
    }
   ],
   "source": [
    "%%writefile .devcontainer/Dockerfile\n",
    "# Use NVIDIA CUDA base image for GPU support\n",
    "FROM nvidia/cuda:12.0.0-base-ubuntu22.04\n",
    "\n",
    "# Define ARGs\n",
    "ARG ENV_NAME=data_science_example\n",
    "ARG PYTHON_VER=3.10\n",
    "\n",
    "# Prevent tzdata from asking for user input\n",
    "ENV DEBIAN_FRONTEND=noninteractive\n",
    "ENV LD_LIBRARY_PATH=/usr/local/cuda/lib64:$LD_LIBRARY_PATH\n",
    "ENV LD_PRELOAD=/usr/lib/x86_64-linux-gnu/libstdc++.so.6\n",
    "\n",
    "# Set environment variables\n",
    "ENV CONDA_DIR=/opt/conda\n",
    "ENV PATH=$CONDA_DIR/bin:$PATH\n",
    "ENV ENV_NAME=$ENV_NAME\n",
    "\n",
    "# Install system dependencies\n",
    "RUN apt-get update --fix-missing && apt-get install -y \\\n",
    "    wget \\\n",
    "    bzip2 \\\n",
    "    ca-certificates \\\n",
    "    curl \\\n",
    "    git \\\n",
    "    vim \\\n",
    "    python3-pip \\\n",
    "    python3-dev \\\n",
    "    python3-opencv \\\n",
    "    libglib2.0-0 \\\n",
    "    libstdc++6 \\\n",
    "    libgcc1 \\\n",
    "    libc6 \\\n",
    "    libc6-dev \\\n",
    "    libc-dev-bin \\\n",
    "    && apt-get clean \\\n",
    "    && rm -rf /var/lib/apt/lists/*\n",
    "\n",
    "# Install Miniconda\n",
    "RUN wget --quiet https://repo.anaconda.com/miniconda/Miniconda3-latest-Linux-x86_64.sh -O ~/miniconda.sh \\\n",
    "    && /bin/bash ~/miniconda.sh -b -p /opt/conda \\\n",
    "    && rm ~/miniconda.sh \\\n",
    "    && $CONDA_DIR/bin/conda clean -a -y\n",
    "\n",
    "# Create a new Conda environment\n",
    "COPY .devcontainer/environment.yml /tmp/environment.yml\n",
    "RUN sed -i \"s/name: \\${ENV_NAME}/name: $ENV_NAME/\" /tmp/environment.yml && \\\n",
    "    sed -i \"s/- python=\\${PYTHON_VER}/- python=$PYTHON_VER/\" /tmp/environment.yml && \\\n",
    "    conda env create -f /tmp/environment.yml \\\n",
    "    && conda clean -a -y\n",
    "\n",
    "# Set up shell initialization for Conda\n",
    "RUN echo \". /opt/conda/etc/profile.d/conda.sh && conda activate $ENV_NAME\" >> /etc/bash.bashrc\n",
    "\n",
    "# Upgrade pip and install additional packages within the Conda environment\n",
    "RUN /bin/bash -c \". /opt/conda/etc/profile.d/conda.sh && conda activate $ENV_NAME && \\\n",
    "    pip install --upgrade pip && \\\n",
    "    pip install torch torchvision torchaudio --index-url https://download.pytorch.org/whl/cu118\"\n",
    "\n",
    "# Set working directory\n",
    "WORKDIR /workspace\n",
    "\n",
    "# Set the default command to bash\n",
    "CMD [\"/bin/bash\"]\n",
    "\n",
    "\n",
    "\n"
   ]
  },
  {
   "cell_type": "code",
   "execution_count": 5,
   "metadata": {},
   "outputs": [
    {
     "name": "stdout",
     "output_type": "stream",
     "text": [
      "Overwriting .devcontainer/environment.yml\n"
     ]
    }
   ],
   "source": [
    "%%writefile .devcontainer/environment.yml\n",
    "name: data_science_example\n",
    "channels:\n",
    "  - conda-forge\n",
    "  - defaults\n",
    "dependencies:\n",
    "  - python=3.10\n",
    "  - numpy\n",
    "  - pandas\n",
    "  - scikit-learn\n",
    "  - matplotlib\n",
    "  - seaborn\n",
    "  - jupyter\n",
    "  - ipykernel\n",
    "  - pytest\n",
    "  - black\n",
    "  - flake8\n",
    "  - mypy\n",
    "  - pip\n",
    "  - seaborn\n",
    "  - mysql-connector-python\n",
    "  - sqlalchemy\n",
    "  - pip:\n",
    "    - pretty_errors \n",
    "    - gdown\n",
    "    - xgboost\n",
    "    - CatBoost\n",
    "    - lightgbm\n",
    "    - git+https://github.com/ghadfield32/ml_preprocessor\n",
    "    - shap\n",
    "    - scikit-optimize\n",
    "    - shapash\n",
    "    - bayesian-optimization\n"
   ]
  },
  {
   "cell_type": "code",
   "execution_count": 6,
   "metadata": {},
   "outputs": [
    {
     "name": "stdout",
     "output_type": "stream",
     "text": [
      "Overwriting .devcontainer/install_dependencies.sh\n"
     ]
    }
   ],
   "source": [
    "%%writefile .devcontainer/install_dependencies.sh\n",
    "\n",
    "#!/usr/bin/env bash\n",
    "\n",
    "# Install system dependencies\n",
    "# apt-get update updates the package list.\n",
    "# apt-get install installs specified packages.\n",
    "# Options:\n",
    "#    Add or remove packages as needed for your environment.\n",
    "apt-get update && apt-get install -y --no-install-recommends \\\n",
    "    python3-launchpadlib \\\n",
    "    vim \\\n",
    "    && rm -rf /var/lib/apt/lists/*\n",
    "\n",
    "\n"
   ]
  },
  {
   "cell_type": "code",
   "execution_count": 7,
   "metadata": {},
   "outputs": [
    {
     "name": "stdout",
     "output_type": "stream",
     "text": [
      "Overwriting .devcontainer/install_quarto.sh\n"
     ]
    }
   ],
   "source": [
    "%%writefile .devcontainer/install_quarto.sh\n",
    "#!/usr/bin/env bash\n",
    "QUARTO_VERSION=$1\n",
    "\n",
    "echo \"Installing Quarto version $QUARTO_VERSION\"\n",
    "\n",
    "# Identify the CPU type (M1 vs Intel)\n",
    "# uname -m returns the machine hardware name.\n",
    "# CPU variable is set based on the hardware type.\n",
    "if [[ $(uname -m) ==  \"aarch64\" ]] ; then\n",
    "  CPU=\"arm64\"\n",
    "elif [[ $(uname -m) ==  \"arm64\" ]] ; then\n",
    "  CPU=\"arm64\"\n",
    "else\n",
    "  CPU=\"amd64\"\n",
    "fi\n",
    "\n",
    "# Download and install Quarto\n",
    "# wget downloads the Quarto installation package.\n",
    "# dpkg installs the downloaded package.\n",
    "TEMP_QUARTO=\"$(mktemp)\" && \\\n",
    "    wget -q  -O \"$TEMP_QUARTO\" https://github.com/quarto-dev/quarto-cli/releases/download/v$QUARTO_VERSION/quarto-${QUARTO_VERSION}-linux-${CPU}.deb && \\\n",
    "    dpkg -i \"$TEMP_QUARTO\" && \\\n",
    "    rm -f \"$TEMP_QUARTO\"\n"
   ]
  },
  {
   "cell_type": "code",
   "execution_count": 8,
   "metadata": {},
   "outputs": [
    {
     "name": "stdout",
     "output_type": "stream",
     "text": [
      "Overwriting .devcontainer/install_requirements.sh\n"
     ]
    }
   ],
   "source": [
    "%%writefile .devcontainer/install_requirements.sh\n",
    "#!/usr/bin/env bash\n",
    "ENV_NAME=$1\n",
    "PYTHON_VER=$2\n",
    "CPU=$(uname -m)\n",
    "\n",
    "# Install Miniconda\n",
    "# apt-get update updates the package list.\n",
    "# wget downloads the Miniconda installer script.\n",
    "# /bin/bash executes the installer script.\n",
    "# Options:\n",
    "#    Change the URL to download a different version of Miniconda if needed.\n",
    "apt update && apt-get install -y --no-install-recommends \\\n",
    "    software-properties-common \\\n",
    "    && add-apt-repository -y ppa:deadsnakes/ppa \\\n",
    "    && apt update \n",
    "\n",
    "wget --quiet https://repo.anaconda.com/miniconda/Miniconda3-latest-Linux-${CPU}.sh -O ~/miniconda.sh \\\n",
    "    && /bin/bash ~/miniconda.sh -b -p /opt/conda \\\n",
    "    && export PATH=/opt/conda/bin:$PATH \\\n",
    "    && conda init bash \\\n",
    "    && conda install conda-build\n",
    "\n",
    "# Set environment\n",
    "# Create a new Conda environment and activate it.\n",
    ". /root/.bashrc \\\n",
    "    && conda create -y --name $ENV_NAME python=$PYTHON_VER \n",
    "\n",
    "echo \"export QUARTO_PYTHON=/opt/conda/envs/${ENV_NAME}/bin/python3\" >> ~/.bashrc\n",
    "echo \"conda activate $ENV_NAME\" >> ~/.bashrc\n",
    "\n",
    "conda activate $ENV_NAME\n",
    "\n",
    "# Install the Python packages\n",
    "# pip3 install installs the packages listed in requirements.txt.\n",
    "pip3 install -r /requirements/requirements.txt\n",
    "\n"
   ]
  },
  {
   "cell_type": "code",
   "execution_count": 9,
   "metadata": {},
   "outputs": [
    {
     "name": "stdout",
     "output_type": "stream",
     "text": [
      "Overwriting .env\n"
     ]
    }
   ],
   "source": [
    "%%writefile .env\n",
    "ENV_NAME=ml_project\n",
    "COMPOSE_PROJECT_NAME=ml_project\n",
    "PYTHON_VER=3.10\n",
    "QUARTO_VER=1.3.450\n",
    "JUPYTER_PORT=8888\n",
    "TENSORBOARD_PORT=6006\n",
    "\n",
    "\n"
   ]
  },
  {
   "cell_type": "code",
   "execution_count": 10,
   "metadata": {},
   "outputs": [
    {
     "name": "stdout",
     "output_type": "stream",
     "text": [
      "Overwriting docker-compose.yml\n"
     ]
    }
   ],
   "source": [
    "%%writefile docker-compose.yml\n",
    "services:\n",
    "  datascience:\n",
    "    build:\n",
    "      context: .\n",
    "      dockerfile: .devcontainer/Dockerfile\n",
    "    runtime: nvidia  # Ensure the NVIDIA runtime is used\n",
    "    volumes:\n",
    "      - .:/workspace\n",
    "    ports:\n",
    "      - \"8888:8888\"  # For Jupyter Notebook\n",
    "      - \"6006:6006\"  # For TensorBoard\n",
    "    deploy:\n",
    "      resources:\n",
    "        reservations:\n",
    "          devices:\n",
    "            - driver: nvidia\n",
    "              count: all\n",
    "              capabilities: [gpu]\n",
    "    environment:\n",
    "      - ENV_NAME=data_science_example\n",
    "      - PYTHON_VER=3.10\n",
    "    command: [\"conda\", \"run\", \"-n\", \"data_science_example\", \"jupyter\", \"lab\", \"--ip\", \"0.0.0.0\", \"--port\", \"8888\", \"--no-browser\", \"--allow-root\"]\n",
    "\n",
    "    \n",
    "\n"
   ]
  }
 ],
 "metadata": {
  "kernelspec": {
   "display_name": ".venv",
   "language": "python",
   "name": "python3"
  },
  "language_info": {
   "codemirror_mode": {
    "name": "ipython",
    "version": 3
   },
   "file_extension": ".py",
   "mimetype": "text/x-python",
   "name": "python",
   "nbconvert_exporter": "python",
   "pygments_lexer": "ipython3",
   "version": "3.12.0"
  }
 },
 "nbformat": 4,
 "nbformat_minor": 2
}
